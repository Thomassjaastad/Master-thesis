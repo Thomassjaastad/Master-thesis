{
 "cells": [
  {
   "cell_type": "code",
   "execution_count": 170,
   "metadata": {},
   "outputs": [],
   "source": [
    "import pandas as pd\n",
    "import matplotlib.pyplot as plt \n",
    "import numpy as np"
   ]
  },
  {
   "cell_type": "code",
   "execution_count": 171,
   "metadata": {},
   "outputs": [
    {
     "data": {
      "text/plain": [
       "pandas.core.frame.DataFrame"
      ]
     },
     "execution_count": 171,
     "metadata": {},
     "output_type": "execute_result"
    }
   ],
   "source": [
    "# setting index of df to TimestampPosition\n",
    "df = pd.read_csv('Routing/aisToTrondheim.csv', index_col = 'TimestampPosition',parse_dates= True)\n",
    "type(df)"
   ]
  },
  {
   "cell_type": "code",
   "execution_count": 67,
   "metadata": {},
   "outputs": [
    {
     "data": {
      "text/html": [
       "<div>\n",
       "<style scoped>\n",
       "    .dataframe tbody tr th:only-of-type {\n",
       "        vertical-align: middle;\n",
       "    }\n",
       "\n",
       "    .dataframe tbody tr th {\n",
       "        vertical-align: top;\n",
       "    }\n",
       "\n",
       "    .dataframe thead th {\n",
       "        text-align: right;\n",
       "    }\n",
       "</style>\n",
       "<table border=\"1\" class=\"dataframe\">\n",
       "  <thead>\n",
       "    <tr style=\"text-align: right;\">\n",
       "      <th></th>\n",
       "      <th>Unnamed: 0</th>\n",
       "      <th>IMONumber</th>\n",
       "      <th>Longitude</th>\n",
       "      <th>Latitude</th>\n",
       "      <th>Heading</th>\n",
       "      <th>SpeedOverGround</th>\n",
       "      <th>ShipType</th>\n",
       "      <th>Length</th>\n",
       "      <th>unix</th>\n",
       "      <th>dummy</th>\n",
       "    </tr>\n",
       "    <tr>\n",
       "      <th>TimestampPosition</th>\n",
       "      <th></th>\n",
       "      <th></th>\n",
       "      <th></th>\n",
       "      <th></th>\n",
       "      <th></th>\n",
       "      <th></th>\n",
       "      <th></th>\n",
       "      <th></th>\n",
       "      <th></th>\n",
       "      <th></th>\n",
       "    </tr>\n",
       "  </thead>\n",
       "  <tbody>\n",
       "    <tr>\n",
       "      <th>2018-06-04 00:00:04</th>\n",
       "      <td>1</td>\n",
       "      <td>9536521</td>\n",
       "      <td>10.270005</td>\n",
       "      <td>63.479540</td>\n",
       "      <td>271</td>\n",
       "      <td>8.3</td>\n",
       "      <td>cargo_ships</td>\n",
       "      <td>89</td>\n",
       "      <td>1528070404</td>\n",
       "      <td>1.0</td>\n",
       "    </tr>\n",
       "    <tr>\n",
       "      <th>2018-06-04 00:10:05</th>\n",
       "      <td>2</td>\n",
       "      <td>9536521</td>\n",
       "      <td>10.219740</td>\n",
       "      <td>63.479408</td>\n",
       "      <td>268</td>\n",
       "      <td>8.1</td>\n",
       "      <td>cargo_ships</td>\n",
       "      <td>89</td>\n",
       "      <td>1528071005</td>\n",
       "      <td>1.0</td>\n",
       "    </tr>\n",
       "    <tr>\n",
       "      <th>2018-06-04 00:20:06</th>\n",
       "      <td>3</td>\n",
       "      <td>9536521</td>\n",
       "      <td>10.166583</td>\n",
       "      <td>63.479360</td>\n",
       "      <td>268</td>\n",
       "      <td>9.0</td>\n",
       "      <td>cargo_ships</td>\n",
       "      <td>89</td>\n",
       "      <td>1528071606</td>\n",
       "      <td>1.0</td>\n",
       "    </tr>\n",
       "    <tr>\n",
       "      <th>2018-06-04 00:30:14</th>\n",
       "      <td>4</td>\n",
       "      <td>9536521</td>\n",
       "      <td>10.108645</td>\n",
       "      <td>63.478938</td>\n",
       "      <td>269</td>\n",
       "      <td>9.3</td>\n",
       "      <td>cargo_ships</td>\n",
       "      <td>89</td>\n",
       "      <td>1528072214</td>\n",
       "      <td>1.0</td>\n",
       "    </tr>\n",
       "    <tr>\n",
       "      <th>2018-06-04 00:40:24</th>\n",
       "      <td>5</td>\n",
       "      <td>9536521</td>\n",
       "      <td>10.050380</td>\n",
       "      <td>63.477678</td>\n",
       "      <td>274</td>\n",
       "      <td>9.1</td>\n",
       "      <td>cargo_ships</td>\n",
       "      <td>89</td>\n",
       "      <td>1528072824</td>\n",
       "      <td>1.0</td>\n",
       "    </tr>\n",
       "  </tbody>\n",
       "</table>\n",
       "</div>"
      ],
      "text/plain": [
       "                     Unnamed: 0  IMONumber  Longitude   Latitude  Heading  \\\n",
       "TimestampPosition                                                           \n",
       "2018-06-04 00:00:04           1    9536521  10.270005  63.479540      271   \n",
       "2018-06-04 00:10:05           2    9536521  10.219740  63.479408      268   \n",
       "2018-06-04 00:20:06           3    9536521  10.166583  63.479360      268   \n",
       "2018-06-04 00:30:14           4    9536521  10.108645  63.478938      269   \n",
       "2018-06-04 00:40:24           5    9536521  10.050380  63.477678      274   \n",
       "\n",
       "                     SpeedOverGround     ShipType  Length        unix  dummy  \n",
       "TimestampPosition                                                             \n",
       "2018-06-04 00:00:04              8.3  cargo_ships      89  1528070404    1.0  \n",
       "2018-06-04 00:10:05              8.1  cargo_ships      89  1528071005    1.0  \n",
       "2018-06-04 00:20:06              9.0  cargo_ships      89  1528071606    1.0  \n",
       "2018-06-04 00:30:14              9.3  cargo_ships      89  1528072214    1.0  \n",
       "2018-06-04 00:40:24              9.1  cargo_ships      89  1528072824    1.0  "
      ]
     },
     "execution_count": 67,
     "metadata": {},
     "output_type": "execute_result"
    }
   ],
   "source": [
    "df.head()"
   ]
  },
  {
   "cell_type": "code",
   "execution_count": 68,
   "metadata": {},
   "outputs": [
    {
     "data": {
      "text/plain": [
       "Index([u'Unnamed: 0', u'IMONumber', u'Longitude', u'Latitude', u'Heading',\n",
       "       u'SpeedOverGround', u'ShipType', u'Length', u'unix', u'dummy'],\n",
       "      dtype='object')"
      ]
     },
     "execution_count": 68,
     "metadata": {},
     "output_type": "execute_result"
    }
   ],
   "source": [
    "df.columns"
   ]
  },
  {
   "cell_type": "code",
   "execution_count": 69,
   "metadata": {},
   "outputs": [
    {
     "data": {
      "text/plain": [
       "DatetimeIndex(['2018-06-04 00:00:04', '2018-06-04 00:10:05',\n",
       "               '2018-06-04 00:20:06', '2018-06-04 00:30:14',\n",
       "               '2018-06-04 00:40:24', '2018-06-04 00:50:24',\n",
       "               '2018-06-04 01:00:04', '2018-06-04 01:10:06',\n",
       "               '2018-06-04 01:20:13', '2018-06-04 01:26:54',\n",
       "               ...\n",
       "               '2019-06-13 20:42:25', '2019-06-13 20:53:22',\n",
       "               '2019-06-13 21:00:51', '2019-06-13 21:11:32',\n",
       "               '2019-06-13 21:21:39', '2019-06-13 21:32:02',\n",
       "               '2019-06-13 21:42:21', '2019-06-13 21:52:33',\n",
       "               '2019-06-13 22:00:02', '2019-06-13 22:10:46'],\n",
       "              dtype='datetime64[ns]', name=u'TimestampPosition', length=71694, freq=None)"
      ]
     },
     "execution_count": 69,
     "metadata": {},
     "output_type": "execute_result"
    }
   ],
   "source": [
    "df.index"
   ]
  },
  {
   "cell_type": "code",
   "execution_count": 70,
   "metadata": {},
   "outputs": [
    {
     "data": {
      "text/plain": [
       "(71694, 10)"
      ]
     },
     "execution_count": 70,
     "metadata": {},
     "output_type": "execute_result"
    }
   ],
   "source": [
    "df.shape"
   ]
  },
  {
   "cell_type": "code",
   "execution_count": 71,
   "metadata": {},
   "outputs": [
    {
     "data": {
      "text/plain": [
       "array([[1, 9536521, 10.270005000000001, ..., 89, 1528070404, 1.0],\n",
       "       [2, 9536521, 10.21974, ..., 89, 1528071005, 1.0],\n",
       "       [3, 9536521, 10.1665833333333, ..., 89, 1528071606, 1.0],\n",
       "       ...,\n",
       "       [71692, 9390276, 9.78817, ..., 69, 1560462753, 1.0],\n",
       "       [71693, 9390276, 9.78533, ..., 69, 1560463202, 1.0],\n",
       "       [71694, 9390276, 9.78076, ..., 69, 1560463846, 1.0]], dtype=object)"
      ]
     },
     "execution_count": 71,
     "metadata": {},
     "output_type": "execute_result"
    }
   ],
   "source": [
    "df.values"
   ]
  },
  {
   "cell_type": "code",
   "execution_count": 72,
   "metadata": {},
   "outputs": [
    {
     "name": "stdout",
     "output_type": "stream",
     "text": [
      "<class 'pandas.core.frame.DataFrame'>\n",
      "DatetimeIndex: 71694 entries, 2018-06-04 00:00:04 to 2019-06-13 22:10:46\n",
      "Data columns (total 10 columns):\n",
      "Unnamed: 0         71694 non-null int64\n",
      "IMONumber          71694 non-null int64\n",
      "Longitude          71694 non-null float64\n",
      "Latitude           71694 non-null float64\n",
      "Heading            71694 non-null int64\n",
      "SpeedOverGround    71694 non-null float64\n",
      "ShipType           71694 non-null object\n",
      "Length             71694 non-null int64\n",
      "unix               71694 non-null int64\n",
      "dummy              71694 non-null float64\n",
      "dtypes: float64(4), int64(5), object(1)\n",
      "memory usage: 6.0+ MB\n"
     ]
    }
   ],
   "source": [
    "df.info()"
   ]
  },
  {
   "cell_type": "code",
   "execution_count": 92,
   "metadata": {},
   "outputs": [],
   "source": [
    "# Unique IMO numbers\n",
    "IMOS = df['IMONumber'].drop_duplicates()\n",
    "#IMOS.values"
   ]
  },
  {
   "cell_type": "code",
   "execution_count": 131,
   "metadata": {},
   "outputs": [],
   "source": [
    "# locate years, months and days in df\n",
    "years = df.index.year    \n",
    "months = df.index.month  \n",
    "days = df.index.day\n",
    "count_Days = days.value_counts() # counts number of days occuring in df \n",
    "last_Time = df.index.max()\n",
    "last_Time.to_period('Y')\n",
    "first_Time = df.index.min()\n"
   ]
  },
  {
   "cell_type": "code",
   "execution_count": 168,
   "metadata": {
    "scrolled": true
   },
   "outputs": [],
   "source": [
    "# count number shiptypes in df\n",
    "count = df['ShipType'].value_counts()"
   ]
  },
  {
   "cell_type": "code",
   "execution_count": 165,
   "metadata": {},
   "outputs": [
    {
     "data": {
      "image/png": "[encoded data removed]",
      "text/plain": [
       "<matplotlib.figure.Figure at 0x12cf12610>"
      ]
     },
     "metadata": {},
     "output_type": "display_data"
    }
   ],
   "source": [
    "hist = df['ShipType'].hist(bins = 12, figsize=(22, 5), xlabelsize = 12)"
   ]
  }
 ],
 "metadata": {
  "kernelspec": {
   "display_name": "Python 2",
   "language": "python",
   "name": "python2"
  },
  "language_info": {
   "codemirror_mode": {
    "name": "ipython",
    "version": 2
   },
   "file_extension": ".py",
   "mimetype": "text/x-python",
   "name": "python",
   "nbconvert_exporter": "python",
   "pygments_lexer": "ipython2",
   "version": "2.7.17"
  }
 },
 "nbformat": 4,
 "nbformat_minor": 2
}
